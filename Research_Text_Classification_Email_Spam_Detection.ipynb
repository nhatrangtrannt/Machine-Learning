{
 "cells": [
  {
   "cell_type": "markdown",
   "id": "4c612843",
   "metadata": {},
   "source": [
    "# CAP 6635 (Bayesian Network & Naive Bayes Text Classification, Transfer learning for SMS classification)\n",
    "## X. Zhu, April 2022.\n",
    "### Some codes were adopted from following github project.\n",
    "### Code Credit: https://github.com/hmahajan99/Text-Classification\n",
    "### Code Credit: https://www.milindsoorya.com/blog/build-a-spam-classifier-in-python"
   ]
  },
  {
   "cell_type": "code",
   "execution_count": 556,
   "id": "072378eb",
   "metadata": {},
   "outputs": [],
   "source": [
    "import os\n",
    "import csv\n",
    "import string\n",
    "import numpy as np\n",
    "import matplotlib.pyplot as plt\n",
    "import pandas as pd\n",
    "from sklearn import model_selection\n",
    "from sklearn.naive_bayes import MultinomialNB\n",
    "from sklearn.metrics import classification_report\n",
    "# A list of common english words which should not affect predictions\n",
    "stopwords = ['a', 'about', 'above', 'across', 'after', 'afterwards', 'again', 'against', 'all', 'almost', 'alone',\n",
    "             'along', 'already', 'also', 'although', 'always', 'am', 'among', 'amongst', 'amoungst', 'amount',\n",
    "             'an', 'and', 'another', 'any', 'anyhow', 'anyone', 'anything', 'anyway', 'anywhere', 'are', 'around',\n",
    "             'as', 'at', 'back', 'be', 'became', 'because', 'become', 'becomes', 'becoming', 'been', 'before',\n",
    "             'beforehand', 'behind', 'being', 'below', 'beside', 'besides', 'between', 'beyond', 'bill', 'both',\n",
    "             'bottom', 'but', 'by', 'call', 'can', 'cannot', 'cant', 'co', 'con', 'could', 'couldnt', 'cry', 'de',\n",
    "             'describe', 'detail', 'did', 'do', 'does', 'doing', 'don', 'done', 'down', 'due', 'during', 'each', 'eg',\n",
    "             'eight', 'either', 'eleven', 'else', 'elsewhere', 'empty', 'enough', 'etc', 'even', 'ever', 'every', 'everyone',\n",
    "             'everything', 'everywhere', 'except', 'few', 'fifteen', 'fify', 'fill', 'find', 'fire', 'first', 'five', 'for',\n",
    "             'former', 'formerly', 'forty', 'found', 'four', 'from', 'front', 'full', 'further', 'get', 'give', 'go', 'had',\n",
    "             'has', 'hasnt', 'have', 'having', 'he', 'hence', 'her', 'here', 'hereafter', 'hereby', 'herein', 'hereupon',\n",
    "             'hers', 'herself', 'him', 'himself', 'his', 'how', 'however', 'hundred', 'i', 'ie', 'if', 'in', 'inc', 'indeed',\n",
    "             'interest', 'into', 'is', 'it', 'its', 'itself', 'just', 'keep', 'last', 'latter', 'latterly', 'least', 'less',\n",
    "             'ltd', 'made', 'many', 'may', 'me', 'meanwhile', 'might', 'mill', 'mine', 'more', 'moreover', 'most', 'mostly',\n",
    "             'move', 'much', 'must', 'my', 'myself', 'name', 'namely', 'neither', 'never', 'nevertheless', 'next', 'nine',\n",
    "             'now', 'nowhere', 'of', 'off', 'often', 'on', 'once', 'one', 'only', 'onto', 'or', 'other', 'others', 'otherwise', 'our', 'ours', 'ourselves', 'out', 'over', 'own',\n",
    "             'part', 'per', 'perhaps', 'please', 'put', 'rather', 're', 's', 'same', 'see', 'seem', 'seemed', 'seeming',\n",
    "             'seems', 'serious', 'several', 'she', 'should', 'show', 'side', 'since', 'sincere', 'six', 'sixty', 'so', \n",
    "             'some', 'somehow', 'someone', 'something', 'sometime', 'sometimes', 'somewhere', 'still', 'such', 'system',\n",
    "             't', 'take', 'ten', 'than', 'that', 'the', 'their', 'theirs', 'them', 'themselves', 'then', 'thence', 'there',\n",
    "             'thereafter', 'thereby', 'therefore', 'therein', 'thereupon', 'these', 'they', 'thickv', 'thin', 'third', 'this',\n",
    "             'those', 'though', 'three', 'through', 'throughout', 'thru', 'thus', 'to', 'together', 'too', 'top', 'toward',\n",
    "             'towards', 'twelve', 'twenty', 'two', 'un', 'under', 'until', 'up', 'upon', 'us', 'very', 'via', 'was', 'we',\n",
    "             'well', 'were', 'what', 'whatever', 'when', 'whence', 'whenever', 'where', 'whereafter', 'whereas', 'whereby',\n",
    "             'wherein', 'whereupon', 'wherever', 'whether', 'which', 'while', 'whither', 'who', 'whoever', 'whole', 'whom',\n",
    "             'whose', 'why', 'will', 'with', 'within', 'without', 'would', 'you', 'your', 'yours', 'yourself',\n",
    "             'yourselves']"
   ]
  },
  {
   "cell_type": "code",
   "execution_count": 557,
   "id": "41c71a7a",
   "metadata": {},
   "outputs": [
    {
     "name": "stdout",
     "output_type": "stream",
     "text": [
      "there are 250 messages/files\n",
      " [('spam121.txt', 'Due to explosive sales in our international business, we are in a position where we need to replenish our inventory. \\n\\nSpecifically we are looking for Agilent, Hewlett Packard and Tektronix equipment.(We also purchase over 40 other major electronic test equipment manufacturers)\\n\\nI have a large budget to purchase equipment for this purpose and would like to buy your surplus, excess, under-utilized, off lease, used or any other equipment available. \\n\\nPlease provide the manufacturer, model number, quantity, general condition and target price and I will respond with an offer right away. \\n\\nAsk about our trade-in, credit on account or other customized programs to maximize the value of your equipment. \\n\\n')] \n",
      "there are 250 labels/files\n",
      " ['spam'] \n"
     ]
    }
   ],
   "source": [
    "X = [] # an element of X is represented as (filename, text)\n",
    "Y = [] # an element of Y represents the category of the corresponding X element\n",
    "#root_dir='text'\n",
    "root_dir='data/email'\n",
    "for category in os.listdir(root_dir):\n",
    "    if category == '.DS_Store':\n",
    "        continue\n",
    "    for document in os.listdir(root_dir+'/'+category):\n",
    "        with open(root_dir+'/'+category+'/'+document, \"r\",encoding='ISO-8859-1') as f:\n",
    "            X.append((document,f.read()))\n",
    "            Y.append(category)\n",
    "\n",
    "print(\"there are %d messages/files\\n %s \" % (len(X),X[0:1]))\n",
    "print(\"there are %d labels/files\\n %s \" % (len(Y),Y[0:1]))"
   ]
  },
  {
   "cell_type": "code",
   "execution_count": 558,
   "id": "2ee0b3c2",
   "metadata": {},
   "outputs": [],
   "source": [
    "# now we are loading a target dataset which is Short messages (SMS). We will try to use previous trained email\n",
    "# spam filter to classify these short messages.\n",
    "import csv\n",
    "X_target = []\n",
    "Y_target=[]\n",
    "\n",
    "with open('data/sms.csv',\"r\",encoding='ISO-8859-1') as f:\n",
    "    X_target = [line.rstrip() for line in f]\n",
    "\n",
    "with open('data/labels.csv',\"r\",encoding='ISO-8859-1') as f:\n",
    "    Y_target = [line.rstrip() for line in f]"
   ]
  },
  {
   "cell_type": "code",
   "execution_count": 559,
   "id": "4ef1239c",
   "metadata": {},
   "outputs": [],
   "source": [
    "X_train, X_test, Y_train, Y_test = model_selection.train_test_split(X, Y, test_size=0.25)"
   ]
  },
  {
   "cell_type": "code",
   "execution_count": 560,
   "id": "82430514",
   "metadata": {},
   "outputs": [
    {
     "data": {
      "text/plain": [
       "319"
      ]
     },
     "execution_count": 560,
     "metadata": {},
     "output_type": "execute_result"
    }
   ],
   "source": [
    "len(stopwords)"
   ]
  },
  {
   "cell_type": "markdown",
   "id": "613e19d3",
   "metadata": {},
   "source": [
    "## lowercase, punctuations, and 2000 features"
   ]
  },
  {
   "cell_type": "code",
   "execution_count": 561,
   "id": "730668a0",
   "metadata": {},
   "outputs": [],
   "source": [
    "# Count words in original dataset\n",
    "def count_words(dataset):\n",
    "    count = 0 \n",
    "    for i in range(len(dataset)):\n",
    "        count = count + len(dataset[i][1].split())\n",
    "    return count"
   ]
  },
  {
   "cell_type": "code",
   "execution_count": 562,
   "id": "ac33640d",
   "metadata": {},
   "outputs": [],
   "source": [
    "# Create vocabulary (using dictionary)\n",
    "#topNum specify number of top words. If topNum=0, meaning selecting all words\n",
    "def createVocabulary(inDataset, stopwordset,topNum):\n",
    "    vocab = {}\n",
    "    for i in range(len(inDataset)):\n",
    "        word_list = []\n",
    "        for word in inDataset[i][1].split():\n",
    "            word_new  = word.strip(string.punctuation).lower()\n",
    "            if (len(word_new)>2):  \n",
    "                if word_new in vocab:\n",
    "                    vocab[word_new]+=1\n",
    "                else:\n",
    "                    vocab[word_new]=1            \n",
    "    # sort the dictionary to focus on most frequent words\n",
    "    vocab_ordered=sorted(vocab.items(), key=lambda x: x[1],reverse=True)\n",
    "    #import itertools\n",
    "    if topNum==0:\n",
    "        return(dict(vocab_ordered))\n",
    "    elif topNum<len(vocab):\n",
    "        V_cut=vocab_ordered[0:topNum]\n",
    "        V_cut=dict(V_cut)\n",
    "        return(V_cut)      \n",
    "    return(dict(vocab_ordered))"
   ]
  },
  {
   "cell_type": "code",
   "execution_count": 563,
   "id": "8beb9543",
   "metadata": {},
   "outputs": [],
   "source": [
    "# To represent training data as bag of words vector representaton (including counts)\n",
    "def BoWInstances(inDataset,features):\n",
    "    inDataset_ = np.zeros((len(inDataset),len(features)))\n",
    "    # This can take some time to complete\n",
    "    for i in range(len(inDataset)):\n",
    "        # print(i) # Uncomment to see progress\n",
    "        word_list = [ word.strip(string.punctuation).lower() for word in inDataset[i][1].split()]\n",
    "        for word in word_list:\n",
    "            if word in features:\n",
    "                inDataset_[i][features.index(word)] += 1\n",
    "    return(inDataset_)"
   ]
  },
  {
   "cell_type": "code",
   "execution_count": 564,
   "id": "303d642e",
   "metadata": {},
   "outputs": [],
   "source": [
    "# To represent training data as bag of words vector representaton (including counts). \n",
    "# short messages dataset has different format from the email. So the BoWInstances_sms function needs to be revised.\n",
    "def BoWInstances_sms(inDataset,features):\n",
    "    inDataset_ = np.zeros((len(inDataset),len(features)))\n",
    "    # This can take some time to complete\n",
    "    for i in range(len(inDataset)):\n",
    "        # print(i) # Uncomment to see progress\n",
    "        word_list = [ word.strip(string.punctuation).lower() for word in inDataset[i].split()]\n",
    "        for word in word_list:\n",
    "            if word in features:\n",
    "                inDataset_[i][features.index(word)] += 1\n",
    "    return(inDataset_)"
   ]
  },
  {
   "cell_type": "code",
   "execution_count": 565,
   "id": "9d38c11c",
   "metadata": {},
   "outputs": [],
   "source": [
    "# Count words in preprocessed dataset\n",
    "def count_words_preprocessed(dataset):\n",
    "    count = 0 \n",
    "    for i in range(len(dataset)):\n",
    "        count = count + len(dataset[i].split())\n",
    "    return count"
   ]
  },
  {
   "cell_type": "code",
   "execution_count": 566,
   "id": "c2a24c40",
   "metadata": {},
   "outputs": [],
   "source": [
    "# func process text\n",
    "def preprocess(dataset):\n",
    "    final = []\n",
    "    for i in range(len(dataset)):\n",
    "        final_words = []\n",
    "        # Lowercase\n",
    "        lower = dataset[i][1].lower()\n",
    "        # Punctuations\n",
    "        for word in lower.split():\n",
    "            if word not in string.punctuation:\n",
    "                final_words.append(word)\n",
    "            sent = ' '.join(final_words)\n",
    "        final.append(str(sent))\n",
    "    return final"
   ]
  },
  {
   "cell_type": "code",
   "execution_count": 567,
   "id": "fb759d59",
   "metadata": {},
   "outputs": [],
   "source": [
    "# func process text\n",
    "def preprocess_sms(dataset):\n",
    "    final = []\n",
    "    for i in range(len(dataset)):\n",
    "        final_words = []\n",
    "        # Lowercase\n",
    "        lower = dataset[i].lower()\n",
    "        # Punctuations\n",
    "        for word in lower.split():\n",
    "            if word not in string.punctuation:\n",
    "                final_words.append(word)\n",
    "            sent = ' '.join(final_words)\n",
    "        final.append(str(sent))\n",
    "    return final"
   ]
  },
  {
   "cell_type": "code",
   "execution_count": 568,
   "id": "263568f9",
   "metadata": {},
   "outputs": [
    {
     "name": "stdout",
     "output_type": "stream",
     "text": [
      "Number of features: 2000\n",
      "X_train - BEFORE doing preprocess: 23953\n",
      "X_test - BEFORE doing preprocess: 7212\n",
      "X_target - BEFORE doing preprocess: 86518\n"
     ]
    }
   ],
   "source": [
    "# Extract features\n",
    "V = createVocabulary(X_train,stopwords,2000)\n",
    "features = list(V.keys())\n",
    "\n",
    "# Count words\n",
    "print(f\"Number of features: {len(V)}\")\n",
    "print(f\"X_train - BEFORE doing preprocess: {count_words(X_train)}\")\n",
    "print(f\"X_test - BEFORE doing preprocess: {count_words(X_test)}\")\n",
    "print(f\"X_target - BEFORE doing preprocess: {count_words_preprocessed(X_target)}\")\n",
    "\n",
    "# To represent test data as bag of word vector counts\n",
    "X_train_dataset = BoWInstances(X_train,features)\n",
    "X_test_dataset = BoWInstances(X_test,features)\n",
    "X_target_dataset = BoWInstances_sms(X_target,features)\n"
   ]
  },
  {
   "cell_type": "code",
   "execution_count": 569,
   "id": "32a8d30b",
   "metadata": {},
   "outputs": [
    {
     "name": "stdout",
     "output_type": "stream",
     "text": [
      "X_train - AFTER doing preprocess: 23740\n",
      "X_test - AFTER doing preprocess: 7175\n",
      "X_target - AFTER doing preprocess: 85760\n"
     ]
    }
   ],
   "source": [
    "# Count words after removing punctuations and lowercase\n",
    "print(f\"X_train - AFTER doing preprocess: {count_words_preprocessed(preprocess(X_train))}\")\n",
    "print(f\"X_test - AFTER doing preprocess: {count_words_preprocessed(preprocess(X_test))}\")\n",
    "print(f\"X_target - AFTER doing preprocess: {count_words_preprocessed(preprocess_sms(X_target))}\")"
   ]
  },
  {
   "cell_type": "code",
   "execution_count": 570,
   "id": "a607d131",
   "metadata": {},
   "outputs": [],
   "source": [
    "#import sklearn packages for different classifiers\n",
    "from sklearn.linear_model import LogisticRegression\n",
    "from sklearn.svm import SVC\n",
    "from sklearn.naive_bayes import MultinomialNB\n",
    "from sklearn.tree import DecisionTreeClassifier\n",
    "from sklearn.neighbors import KNeighborsClassifier\n",
    "from sklearn.ensemble import RandomForestClassifier\n",
    "from sklearn.metrics import accuracy_score\n",
    "import timeit\n",
    "from sklearn.metrics import confusion_matrix"
   ]
  },
  {
   "cell_type": "code",
   "execution_count": 571,
   "id": "1d03023e",
   "metadata": {},
   "outputs": [],
   "source": [
    "def train_different_models(report=True):\n",
    "    mnb = MultinomialNB()\n",
    "    svc = SVC()\n",
    "    rfc = RandomForestClassifier()\n",
    "    knc = KNeighborsClassifier()\n",
    "    dtc = DecisionTreeClassifier()\n",
    "    lr = LogisticRegression()\n",
    "    clfs = {'SVC' : svc, 'MultinomialNB': mnb, 'RandomForest': rfc, 'KNeighbors': knc, 'DecisionTree': dtc, 'LogisticRegression': lr}\n",
    "\n",
    "    results = []\n",
    "    for name, model in clfs.items():\n",
    "        print(f\"Name of Classifier: {name}\")\n",
    "        start = timeit.default_timer()\n",
    "        model.fit(X_train_dataset, Y_train)\n",
    "        Y_target_pred = model.predict(X_target_dataset)\n",
    "        stop = timeit.default_timer()\n",
    "        sklearn_score_train = model.score(X_train_dataset,Y_train)\n",
    "        sklearn_score_test = model.score(X_test_dataset,Y_test)\n",
    "        sklearn_score_target = model.score(X_target_dataset,Y_target)\n",
    "        if report == True:\n",
    "            print(\"Sklearn's score on testing data (SMS):\",sklearn_score_target)\n",
    "            conf_mat = confusion_matrix(Y_target, Y_target_pred)\n",
    "            print(conf_mat)\n",
    "            print(\"Classification report for testing data (SMS):\")\n",
    "            print(classification_report(Y_target, Y_target_pred))\n",
    "        results.append((name,\"Score on training data (Email): \"+ str(sklearn_score_train), \"Score on testing data (Email): \" + str(sklearn_score_test), \"Score on SMS data: \" + str(sklearn_score_target),\"Time: \" + str(stop - start)))\n",
    "    return results"
   ]
  },
  {
   "cell_type": "code",
   "execution_count": 572,
   "id": "6601673e",
   "metadata": {},
   "outputs": [
    {
     "data": {
      "image/png": "[encoded data removed]",
      "text/plain": [
       "<Figure size 432x288 with 1 Axes>"
      ]
     },
     "metadata": {
      "needs_background": "light"
     },
     "output_type": "display_data"
    }
   ],
   "source": [
    "# Graph number of words given frequency (20)\n",
    "num_words = [0 for i in range(max(V.values())+1)] \n",
    "freq = [i for i in range(max(V.values())+1)] \n",
    "for key in V:\n",
    "    num_words[V[key]]+=1\n",
    "maxv=max(num_words)+10\n",
    "plt.plot(freq,num_words)\n",
    "plt.axis([1, 20, 0, maxv])\n",
    "plt.xlabel(\"Frequency\")\n",
    "plt.ylabel(\"No of words\")\n",
    "plt.grid()\n",
    "plt.show()"
   ]
  },
  {
   "cell_type": "code",
   "execution_count": 573,
   "id": "e6cc73fe",
   "metadata": {},
   "outputs": [
    {
     "name": "stdout",
     "output_type": "stream",
     "text": [
      "Name of Classifier: SVC\n",
      "Sklearn's score on testing data (SMS): 0.1349605168700646\n",
      "[[   5 4820]\n",
      " [   0  747]]\n",
      "Classification report for testing data (SMS):\n",
      "              precision    recall  f1-score   support\n",
      "\n",
      "      normal       1.00      0.00      0.00      4825\n",
      "        spam       0.13      1.00      0.24       747\n",
      "\n",
      "    accuracy                           0.13      5572\n",
      "   macro avg       0.57      0.50      0.12      5572\n",
      "weighted avg       0.88      0.13      0.03      5572\n",
      "\n",
      "Name of Classifier: MultinomialNB\n",
      "Sklearn's score on testing data (SMS): 0.4278535534816942\n",
      "[[1800 3025]\n",
      " [ 163  584]]\n",
      "Classification report for testing data (SMS):\n",
      "              precision    recall  f1-score   support\n",
      "\n",
      "      normal       0.92      0.37      0.53      4825\n",
      "        spam       0.16      0.78      0.27       747\n",
      "\n",
      "    accuracy                           0.43      5572\n",
      "   macro avg       0.54      0.58      0.40      5572\n",
      "weighted avg       0.82      0.43      0.50      5572\n",
      "\n",
      "Name of Classifier: RandomForest\n",
      "Sklearn's score on testing data (SMS): 0.1354989231873654\n",
      "[[   8 4817]\n",
      " [   0  747]]\n",
      "Classification report for testing data (SMS):\n",
      "              precision    recall  f1-score   support\n",
      "\n",
      "      normal       1.00      0.00      0.00      4825\n",
      "        spam       0.13      1.00      0.24       747\n",
      "\n",
      "    accuracy                           0.14      5572\n",
      "   macro avg       0.57      0.50      0.12      5572\n",
      "weighted avg       0.88      0.14      0.03      5572\n",
      "\n",
      "Name of Classifier: KNeighbors\n",
      "Sklearn's score on testing data (SMS): 0.13801148600143576\n",
      "[[  22 4803]\n",
      " [   0  747]]\n",
      "Classification report for testing data (SMS):\n",
      "              precision    recall  f1-score   support\n",
      "\n",
      "      normal       1.00      0.00      0.01      4825\n",
      "        spam       0.13      1.00      0.24       747\n",
      "\n",
      "    accuracy                           0.14      5572\n",
      "   macro avg       0.57      0.50      0.12      5572\n",
      "weighted avg       0.88      0.14      0.04      5572\n",
      "\n",
      "Name of Classifier: DecisionTree\n",
      "Sklearn's score on testing data (SMS): 0.167264895908112\n",
      "[[ 224 4601]\n",
      " [  39  708]]\n",
      "Classification report for testing data (SMS):\n",
      "              precision    recall  f1-score   support\n",
      "\n",
      "      normal       0.85      0.05      0.09      4825\n",
      "        spam       0.13      0.95      0.23       747\n",
      "\n",
      "    accuracy                           0.17      5572\n",
      "   macro avg       0.49      0.50      0.16      5572\n",
      "weighted avg       0.76      0.17      0.11      5572\n",
      "\n",
      "Name of Classifier: LogisticRegression\n",
      "Sklearn's score on testing data (SMS): 0.1453697056712132\n",
      "[[  68 4757]\n",
      " [   5  742]]\n",
      "Classification report for testing data (SMS):\n",
      "              precision    recall  f1-score   support\n",
      "\n",
      "      normal       0.93      0.01      0.03      4825\n",
      "        spam       0.13      0.99      0.24       747\n",
      "\n",
      "    accuracy                           0.15      5572\n",
      "   macro avg       0.53      0.50      0.13      5572\n",
      "weighted avg       0.82      0.15      0.06      5572\n",
      "\n"
     ]
    },
    {
     "data": {
      "text/plain": [
       "[('SVC',\n",
       "  'Score on training data (Email): 0.9625668449197861',\n",
       "  'Score on testing data (Email): 0.7777777777777778',\n",
       "  'Score on SMS data: 0.1349605168700646',\n",
       "  'Time: 0.6961654170008842'),\n",
       " ('MultinomialNB',\n",
       "  'Score on training data (Email): 1.0',\n",
       "  'Score on testing data (Email): 0.9047619047619048',\n",
       "  'Score on SMS data: 0.4278535534816942',\n",
       "  'Time: 0.005753834004281089'),\n",
       " ('RandomForest',\n",
       "  'Score on training data (Email): 1.0',\n",
       "  'Score on testing data (Email): 0.8571428571428571',\n",
       "  'Score on SMS data: 0.1354989231873654',\n",
       "  'Time: 0.19851754198316485'),\n",
       " ('KNeighbors',\n",
       "  'Score on training data (Email): 0.8502673796791443',\n",
       "  'Score on testing data (Email): 0.6825396825396826',\n",
       "  'Score on SMS data: 0.13801148600143576',\n",
       "  'Time: 0.15583012500428595'),\n",
       " ('DecisionTree',\n",
       "  'Score on training data (Email): 1.0',\n",
       "  'Score on testing data (Email): 0.6349206349206349',\n",
       "  'Score on SMS data: 0.167264895908112',\n",
       "  'Time: 0.022000208002282307'),\n",
       " ('LogisticRegression',\n",
       "  'Score on training data (Email): 1.0',\n",
       "  'Score on testing data (Email): 0.8412698412698413',\n",
       "  'Score on SMS data: 0.1453697056712132',\n",
       "  'Time: 0.03171737500815652')]"
      ]
     },
     "execution_count": 573,
     "metadata": {},
     "output_type": "execute_result"
    }
   ],
   "source": [
    "# Print result\n",
    "first_exp = train_different_models()\n",
    "first_exp"
   ]
  },
  {
   "cell_type": "code",
   "execution_count": 574,
   "id": "b5e4e9cf",
   "metadata": {},
   "outputs": [
    {
     "name": "stdout",
     "output_type": "stream",
     "text": [
      "Name of Classifier: SVC\n",
      "Name of Classifier: MultinomialNB\n",
      "Name of Classifier: RandomForest\n",
      "Name of Classifier: KNeighbors\n",
      "Name of Classifier: DecisionTree\n",
      "Name of Classifier: LogisticRegression\n"
     ]
    },
    {
     "data": {
      "text/plain": [
       "[('SVC',\n",
       "  'Score on training data (Email): 0.9625668449197861',\n",
       "  'Score on testing data (Email): 0.7777777777777778',\n",
       "  'Score on SMS data: 0.1349605168700646',\n",
       "  'Time: 0.6949662919796538'),\n",
       " ('MultinomialNB',\n",
       "  'Score on training data (Email): 1.0',\n",
       "  'Score on testing data (Email): 0.9047619047619048',\n",
       "  'Score on SMS data: 0.4278535534816942',\n",
       "  'Time: 0.005441542016342282'),\n",
       " ('RandomForest',\n",
       "  'Score on training data (Email): 1.0',\n",
       "  'Score on testing data (Email): 0.8412698412698413',\n",
       "  'Score on SMS data: 0.1351399856424982',\n",
       "  'Time: 0.1747678329993505'),\n",
       " ('KNeighbors',\n",
       "  'Score on training data (Email): 0.8502673796791443',\n",
       "  'Score on testing data (Email): 0.6825396825396826',\n",
       "  'Score on SMS data: 0.13801148600143576',\n",
       "  'Time: 0.15924366598483175'),\n",
       " ('DecisionTree',\n",
       "  'Score on training data (Email): 1.0',\n",
       "  'Score on testing data (Email): 0.6349206349206349',\n",
       "  'Score on SMS data: 0.16744436468054558',\n",
       "  'Time: 0.018862875003833324'),\n",
       " ('LogisticRegression',\n",
       "  'Score on training data (Email): 1.0',\n",
       "  'Score on testing data (Email): 0.8412698412698413',\n",
       "  'Score on SMS data: 0.1453697056712132',\n",
       "  'Time: 0.03215112499310635')]"
      ]
     },
     "execution_count": 574,
     "metadata": {},
     "output_type": "execute_result"
    }
   ],
   "source": [
    "first_exp = train_different_models(report=False)\n",
    "first_exp"
   ]
  },
  {
   "cell_type": "markdown",
   "id": "c427a40a",
   "metadata": {},
   "source": [
    "## lowercase, punctuation, stopwords, and 2000 features"
   ]
  },
  {
   "cell_type": "code",
   "execution_count": 575,
   "id": "c160dc0b",
   "metadata": {},
   "outputs": [],
   "source": [
    "# Create vocabulary (using dictionary)\n",
    "#topNum specify number of top words. If topNum=0, meaning selecting all words\n",
    "def createVocabulary(inDataset, stopwordset,topNum):\n",
    "    vocab = {}\n",
    "    for i in range(len(inDataset)):\n",
    "        word_list = []\n",
    "        for word in inDataset[i].split():\n",
    "            word_new  = word.strip(string.punctuation).lower()\n",
    "            if (len(word_new)>2)  and (word_new not in stopwordset):  \n",
    "                if word_new in vocab:\n",
    "                    vocab[word_new]+=1\n",
    "                else:\n",
    "                    vocab[word_new]=1            \n",
    "    # sort the dictionary to focus on most frequent words\n",
    "    vocab_ordered=sorted(vocab.items(), key=lambda x: x[1],reverse=True)\n",
    "    #import itertools\n",
    "    if topNum==0:\n",
    "        return(dict(vocab_ordered))\n",
    "    elif topNum<len(vocab):\n",
    "        V_cut=vocab_ordered[0:topNum]\n",
    "        V_cut=dict(V_cut)\n",
    "        return(V_cut)      \n",
    "    return(dict(vocab_ordered))"
   ]
  },
  {
   "cell_type": "code",
   "execution_count": 576,
   "id": "bf5f975b",
   "metadata": {},
   "outputs": [],
   "source": [
    "def preprocess(dataset):\n",
    "    final = []\n",
    "    for i in range(len(dataset)):\n",
    "        final_words = []\n",
    "        # Lowercase\n",
    "        lower = dataset[i][1].lower()\n",
    "        # Stopword and punctuations\n",
    "        for word in lower.split():\n",
    "            # Below condition is to check for Stop words and consider only alphabets\n",
    "            if word not in stopwords and word not in string.punctuation:\n",
    "                final_words.append(word)\n",
    "        sent = ' '.join(final_words)\n",
    "        final.append(str(sent))\n",
    "    return final"
   ]
  },
  {
   "cell_type": "code",
   "execution_count": 577,
   "id": "648da9ce",
   "metadata": {},
   "outputs": [],
   "source": [
    "def preprocess_sms(dataset):\n",
    "    final = []\n",
    "    for i in range(len(dataset)):\n",
    "        final_words = []\n",
    "        # Lowercase\n",
    "        lower = dataset[i].lower()\n",
    "        # Stopword and punctuations\n",
    "        for word in lower.split():\n",
    "            # Below condition is to check for Stop words and consider only alphabets\n",
    "            if word not in stopwords and word not in string.punctuation:\n",
    "                final_words.append(word)\n",
    "        sent = ' '.join(final_words)\n",
    "        final.append(str(sent))\n",
    "    return final"
   ]
  },
  {
   "cell_type": "code",
   "execution_count": 578,
   "id": "7eb44d79",
   "metadata": {},
   "outputs": [],
   "source": [
    "# Preprocessing text dataset\n",
    "X_train_data = preprocess(X_train)\n",
    "X_test_data = preprocess(X_test)\n",
    "X_target_data = preprocess_sms(X_target)"
   ]
  },
  {
   "cell_type": "code",
   "execution_count": 579,
   "id": "d46446eb",
   "metadata": {},
   "outputs": [
    {
     "name": "stdout",
     "output_type": "stream",
     "text": [
      "Number of features: 2000\n",
      "X_train - BEFORE doing preprocess: 23953\n",
      "X_test - BEFORE doing preprocess: 7212\n",
      "X_target - BEFORE doing preprocess: 86518\n"
     ]
    }
   ],
   "source": [
    "# Extract features\n",
    "V = createVocabulary(X_train_data,stopwords,2000)\n",
    "features = list(V.keys())\n",
    "\n",
    "# Count words\n",
    "print(f\"Number of features: {len(V)}\")\n",
    "print(f\"X_train - BEFORE doing preprocess: {count_words(X_train)}\")\n",
    "print(f\"X_test - BEFORE doing preprocess: {count_words(X_test)}\")\n",
    "print(f\"X_target - BEFORE doing preprocess: {count_words_preprocessed(X_target)}\")\n",
    "\n",
    "# To represent test data as bag of word vector counts\n",
    "X_train_dataset = BoWInstances_sms(X_train_data,features)\n",
    "X_test_dataset = BoWInstances_sms(X_test_data,features)\n",
    "X_target_dataset = BoWInstances_sms(X_target_data,features)"
   ]
  },
  {
   "cell_type": "code",
   "execution_count": 580,
   "id": "0e40e6e3",
   "metadata": {},
   "outputs": [
    {
     "name": "stdout",
     "output_type": "stream",
     "text": [
      "X_train - AFTER doing preprocess: 13477\n",
      "X_test - AFTER doing preprocess: 3950\n",
      "X_target - AFTER doing preprocess: 51930\n"
     ]
    }
   ],
   "source": [
    "# Count words after removing punctuations and stopwords lowercase\n",
    "print(f\"X_train - AFTER doing preprocess: {count_words_preprocessed(preprocess(X_train))}\")\n",
    "print(f\"X_test - AFTER doing preprocess: {count_words_preprocessed(preprocess(X_test))}\")\n",
    "print(f\"X_target - AFTER doing preprocess: {count_words_preprocessed(preprocess_sms(X_target))}\")"
   ]
  },
  {
   "cell_type": "code",
   "execution_count": 581,
   "id": "261c910f",
   "metadata": {},
   "outputs": [
    {
     "name": "stdout",
     "output_type": "stream",
     "text": [
      "Name of Classifier: SVC\n",
      "Sklearn's score on testing data (SMS): 0.1354989231873654\n",
      "[[   8 4817]\n",
      " [   0  747]]\n",
      "Classification report for testing data (SMS):\n",
      "              precision    recall  f1-score   support\n",
      "\n",
      "      normal       1.00      0.00      0.00      4825\n",
      "        spam       0.13      1.00      0.24       747\n",
      "\n",
      "    accuracy                           0.14      5572\n",
      "   macro avg       0.57      0.50      0.12      5572\n",
      "weighted avg       0.88      0.14      0.03      5572\n",
      "\n",
      "Name of Classifier: MultinomialNB\n",
      "Sklearn's score on testing data (SMS): 0.41762383345297915\n",
      "[[1800 3025]\n",
      " [ 220  527]]\n",
      "Classification report for testing data (SMS):\n",
      "              precision    recall  f1-score   support\n",
      "\n",
      "      normal       0.89      0.37      0.53      4825\n",
      "        spam       0.15      0.71      0.25       747\n",
      "\n",
      "    accuracy                           0.42      5572\n",
      "   macro avg       0.52      0.54      0.39      5572\n",
      "weighted avg       0.79      0.42      0.49      5572\n",
      "\n",
      "Name of Classifier: RandomForest\n",
      "Sklearn's score on testing data (SMS): 0.1358578607322326\n",
      "[[  10 4815]\n",
      " [   0  747]]\n",
      "Classification report for testing data (SMS):\n",
      "              precision    recall  f1-score   support\n",
      "\n",
      "      normal       1.00      0.00      0.00      4825\n",
      "        spam       0.13      1.00      0.24       747\n",
      "\n",
      "    accuracy                           0.14      5572\n",
      "   macro avg       0.57      0.50      0.12      5572\n",
      "weighted avg       0.88      0.14      0.04      5572\n",
      "\n",
      "Name of Classifier: KNeighbors\n",
      "Sklearn's score on testing data (SMS): 0.13819095477386933\n",
      "[[  23 4802]\n",
      " [   0  747]]\n",
      "Classification report for testing data (SMS):\n",
      "              precision    recall  f1-score   support\n",
      "\n",
      "      normal       1.00      0.00      0.01      4825\n",
      "        spam       0.13      1.00      0.24       747\n",
      "\n",
      "    accuracy                           0.14      5572\n",
      "   macro avg       0.57      0.50      0.12      5572\n",
      "weighted avg       0.88      0.14      0.04      5572\n",
      "\n",
      "Name of Classifier: DecisionTree\n",
      "Sklearn's score on testing data (SMS): 0.14680545585068197\n",
      "[[  98 4727]\n",
      " [  27  720]]\n",
      "Classification report for testing data (SMS):\n",
      "              precision    recall  f1-score   support\n",
      "\n",
      "      normal       0.78      0.02      0.04      4825\n",
      "        spam       0.13      0.96      0.23       747\n",
      "\n",
      "    accuracy                           0.15      5572\n",
      "   macro avg       0.46      0.49      0.14      5572\n",
      "weighted avg       0.70      0.15      0.07      5572\n",
      "\n",
      "Name of Classifier: LogisticRegression\n",
      "Sklearn's score on testing data (SMS): 0.14967695620961952\n",
      "[[ 106 4719]\n",
      " [  19  728]]\n",
      "Classification report for testing data (SMS):\n",
      "              precision    recall  f1-score   support\n",
      "\n",
      "      normal       0.85      0.02      0.04      4825\n",
      "        spam       0.13      0.97      0.24       747\n",
      "\n",
      "    accuracy                           0.15      5572\n",
      "   macro avg       0.49      0.50      0.14      5572\n",
      "weighted avg       0.75      0.15      0.07      5572\n",
      "\n"
     ]
    },
    {
     "data": {
      "text/plain": [
       "[('SVC',\n",
       "  'Score on training data (Email): 0.9946524064171123',\n",
       "  'Score on testing data (Email): 0.7777777777777778',\n",
       "  'Score on SMS data: 0.1354989231873654',\n",
       "  'Time: 0.743085833004443'),\n",
       " ('MultinomialNB',\n",
       "  'Score on training data (Email): 1.0',\n",
       "  'Score on testing data (Email): 0.8888888888888888',\n",
       "  'Score on SMS data: 0.41762383345297915',\n",
       "  'Time: 0.005987790995277464'),\n",
       " ('RandomForest',\n",
       "  'Score on training data (Email): 1.0',\n",
       "  'Score on testing data (Email): 0.7936507936507936',\n",
       "  'Score on SMS data: 0.1358578607322326',\n",
       "  'Time: 0.2157311250048224'),\n",
       " ('KNeighbors',\n",
       "  'Score on training data (Email): 0.786096256684492',\n",
       "  'Score on testing data (Email): 0.5079365079365079',\n",
       "  'Score on SMS data: 0.13819095477386933',\n",
       "  'Time: 0.15736033400753513'),\n",
       " ('DecisionTree',\n",
       "  'Score on training data (Email): 1.0',\n",
       "  'Score on testing data (Email): 0.7936507936507936',\n",
       "  'Score on SMS data: 0.14680545585068197',\n",
       "  'Time: 0.020703499991213903'),\n",
       " ('LogisticRegression',\n",
       "  'Score on training data (Email): 1.0',\n",
       "  'Score on testing data (Email): 0.8888888888888888',\n",
       "  'Score on SMS data: 0.14967695620961952',\n",
       "  'Time: 0.017485582997323945')]"
      ]
     },
     "execution_count": 581,
     "metadata": {},
     "output_type": "execute_result"
    }
   ],
   "source": [
    "# Print result\n",
    "second_exp = train_different_models()\n",
    "second_exp"
   ]
  },
  {
   "cell_type": "code",
   "execution_count": 582,
   "id": "dea9ca6e",
   "metadata": {},
   "outputs": [
    {
     "name": "stdout",
     "output_type": "stream",
     "text": [
      "Name of Classifier: SVC\n",
      "Name of Classifier: MultinomialNB\n",
      "Name of Classifier: RandomForest\n",
      "Name of Classifier: KNeighbors\n",
      "Name of Classifier: DecisionTree\n",
      "Name of Classifier: LogisticRegression\n"
     ]
    },
    {
     "data": {
      "text/plain": [
       "[('SVC',\n",
       "  'Score on training data (Email): 0.9946524064171123',\n",
       "  'Score on testing data (Email): 0.7777777777777778',\n",
       "  'Score on SMS data: 0.1354989231873654',\n",
       "  'Time: 0.7347576669999398'),\n",
       " ('MultinomialNB',\n",
       "  'Score on training data (Email): 1.0',\n",
       "  'Score on testing data (Email): 0.8888888888888888',\n",
       "  'Score on SMS data: 0.41762383345297915',\n",
       "  'Time: 0.005686624994268641'),\n",
       " ('RandomForest',\n",
       "  'Score on training data (Email): 1.0',\n",
       "  'Score on testing data (Email): 0.873015873015873',\n",
       "  'Score on SMS data: 0.13657573582196697',\n",
       "  'Time: 0.2197622919920832'),\n",
       " ('KNeighbors',\n",
       "  'Score on training data (Email): 0.786096256684492',\n",
       "  'Score on testing data (Email): 0.5079365079365079',\n",
       "  'Score on SMS data: 0.13819095477386933',\n",
       "  'Time: 0.14701270899968222'),\n",
       " ('DecisionTree',\n",
       "  'Score on training data (Email): 1.0',\n",
       "  'Score on testing data (Email): 0.7936507936507936',\n",
       "  'Score on SMS data: 0.1466259870782484',\n",
       "  'Time: 0.0190007500059437'),\n",
       " ('LogisticRegression',\n",
       "  'Score on training data (Email): 1.0',\n",
       "  'Score on testing data (Email): 0.8888888888888888',\n",
       "  'Score on SMS data: 0.14967695620961952',\n",
       "  'Time: 0.014314416999695823')]"
      ]
     },
     "execution_count": 582,
     "metadata": {},
     "output_type": "execute_result"
    }
   ],
   "source": [
    "second_exp = train_different_models(report=False)\n",
    "second_exp"
   ]
  },
  {
   "cell_type": "markdown",
   "id": "e6ac3c95",
   "metadata": {},
   "source": [
    "### lowercase, stopwords, punctuations, word lemmatizer, and 2000 features"
   ]
  },
  {
   "cell_type": "code",
   "execution_count": 583,
   "id": "d6254e4c",
   "metadata": {},
   "outputs": [],
   "source": [
    "import nltk\n",
    "from nltk.tokenize import word_tokenize\n",
    "from nltk import pos_tag\n",
    "from nltk.stem import WordNetLemmatizer\n",
    "from nltk.corpus import wordnet\n",
    "from collections import defaultdict\n",
    "\n",
    "tag_map = defaultdict(lambda : wordnet.NOUN)\n",
    "tag_map['J'] = wordnet.ADJ\n",
    "tag_map['V'] = wordnet.VERB\n",
    "tag_map['R'] = wordnet.ADV"
   ]
  },
  {
   "cell_type": "code",
   "execution_count": 584,
   "id": "c383353f",
   "metadata": {},
   "outputs": [],
   "source": [
    "# Create vocabulary (using dictionary)\n",
    "#topNum specify number of top words. If topNum=0, meaning selecting all words\n",
    "def createVocabulary(inDataset, stopwordset,topNum):\n",
    "    vocab = {}\n",
    "    for i in range(len(inDataset)):\n",
    "        word_list = []\n",
    "        #for word in inDataset[i][1].split():\n",
    "        for word in inDataset[i].split():\n",
    "            word_new  = word.strip(string.punctuation).lower()\n",
    "            if (len(word_new)>2)  and (word_new not in stopwordset):  \n",
    "            #if (len(word_new)>2):  \n",
    "                if word_new in vocab:\n",
    "                    vocab[word_new]+=1\n",
    "                else:\n",
    "                    vocab[word_new]=1            \n",
    "    # sort the dictionary to focus on most frequent words\n",
    "    vocab_ordered=sorted(vocab.items(), key=lambda x: x[1],reverse=True)\n",
    "    #import itertools\n",
    "    if topNum==0:\n",
    "        return(dict(vocab_ordered))\n",
    "    elif topNum<len(vocab):\n",
    "        V_cut=vocab_ordered[0:topNum]\n",
    "        V_cut=dict(V_cut)\n",
    "        return(V_cut)      \n",
    "    return(dict(vocab_ordered))"
   ]
  },
  {
   "cell_type": "code",
   "execution_count": 585,
   "id": "344ccfc8",
   "metadata": {},
   "outputs": [],
   "source": [
    "def preprocess(dataset):\n",
    "    final = []\n",
    "    for i in range(len(dataset)):\n",
    "        final_words = []\n",
    "        # Lowercase\n",
    "        lower = dataset[i][1].lower()\n",
    "        # Tokenize word\n",
    "        tokenize = word_tokenize(lower)\n",
    "        # Initializing WordNetLemmatizer() \n",
    "        word_Lemmatized = WordNetLemmatizer()\n",
    "        # pos_tag function below will provide the 'tag' i.e if the word is Noun(N) or Verb(V) or something else.\n",
    "        for word, tag in pos_tag(tokenize):\n",
    "            # Below condition is to check for Stop words and consider only alphabets\n",
    "            if word not in stopwords and word not in string.punctuation:\n",
    "                word_Final = word_Lemmatized.lemmatize(word,tag_map[str(tag[0])])\n",
    "                final_words.append(word_Final)\n",
    "                #final_words.append(word)\n",
    "        sent = ' '.join(final_words)\n",
    "        final.append(str(sent))\n",
    "    return final"
   ]
  },
  {
   "cell_type": "code",
   "execution_count": 586,
   "id": "0b23ae47",
   "metadata": {},
   "outputs": [],
   "source": [
    "def preprocess_sms(dataset):\n",
    "    final = []\n",
    "    for i in range(len(dataset)):\n",
    "        final_words = []\n",
    "        # Lowercase\n",
    "        lower = dataset[i].lower()\n",
    "        # Tokenize word\n",
    "        tokenize = word_tokenize(lower)\n",
    "        # Initializing WordNetLemmatizer() \n",
    "        word_Lemmatized = WordNetLemmatizer()\n",
    "        # pos_tag function below will provide the 'tag' i.e if the word is Noun(N) or Verb(V) or something else.\n",
    "        for word, tag in pos_tag(tokenize):\n",
    "            # Below condition is to check for Stop words and consider only alphabets\n",
    "            if word not in stopwords and word not in string.punctuation:\n",
    "                word_Final = word_Lemmatized.lemmatize(word,tag_map[str(tag[0])])\n",
    "                final_words.append(word_Final)\n",
    "                #final_words.append(word)\n",
    "        sent = ' '.join(final_words)\n",
    "        final.append(str(sent))\n",
    "    return final"
   ]
  },
  {
   "cell_type": "code",
   "execution_count": 587,
   "id": "a084a0c1",
   "metadata": {},
   "outputs": [],
   "source": [
    "# Preprocessing text dataset\n",
    "X_train_data = preprocess(X_train)\n",
    "X_test_data = preprocess(X_test)\n",
    "X_target_data = preprocess_sms(X_target)"
   ]
  },
  {
   "cell_type": "code",
   "execution_count": 588,
   "id": "089ae035",
   "metadata": {},
   "outputs": [
    {
     "name": "stdout",
     "output_type": "stream",
     "text": [
      "Number of features: 2000\n",
      "X_train - BEFORE doing preprocess: 23953\n",
      "X_test - BEFORE doing preprocess: 7212\n",
      "X_target - BEFORE doing preprocess: 86518\n"
     ]
    }
   ],
   "source": [
    "# Extract features\n",
    "V = createVocabulary(X_train_data,stopwords,2000)\n",
    "features = list(V.keys())\n",
    "\n",
    "# Count words\n",
    "print(f\"Number of features: {len(V)}\")\n",
    "print(f\"X_train - BEFORE doing preprocess: {count_words(X_train)}\")\n",
    "print(f\"X_test - BEFORE doing preprocess: {count_words(X_test)}\")\n",
    "print(f\"X_target - BEFORE doing preprocess: {count_words_preprocessed(X_target)}\")\n",
    "\n",
    "# To represent test data as bag of word vector counts\n",
    "X_train_dataset = BoWInstances_sms(X_train_data,features)\n",
    "X_test_dataset = BoWInstances_sms(X_test_data,features)\n",
    "X_target_dataset = BoWInstances_sms(X_target_data,features)"
   ]
  },
  {
   "cell_type": "code",
   "execution_count": 589,
   "id": "bb395a31",
   "metadata": {},
   "outputs": [
    {
     "name": "stdout",
     "output_type": "stream",
     "text": [
      "X_train - AFTER doing preprocess: 13469\n",
      "X_test - AFTER doing preprocess: 3954\n",
      "X_target - AFTER doing preprocess: 55200\n"
     ]
    }
   ],
   "source": [
    "# Count words after removing punctuations and stopwords lowercase\n",
    "print(f\"X_train - AFTER doing preprocess: {count_words_preprocessed(preprocess(X_train))}\")\n",
    "print(f\"X_test - AFTER doing preprocess: {count_words_preprocessed(preprocess(X_test))}\")\n",
    "print(f\"X_target - AFTER doing preprocess: {count_words_preprocessed(preprocess_sms(X_target))}\")"
   ]
  },
  {
   "cell_type": "code",
   "execution_count": 590,
   "id": "4c8b267b",
   "metadata": {},
   "outputs": [
    {
     "name": "stdout",
     "output_type": "stream",
     "text": [
      "Name of Classifier: SVC\n",
      "Sklearn's score on testing data (SMS): 0.1354989231873654\n",
      "[[  10 4815]\n",
      " [   2  745]]\n",
      "Classification report for testing data (SMS):\n",
      "              precision    recall  f1-score   support\n",
      "\n",
      "      normal       0.83      0.00      0.00      4825\n",
      "        spam       0.13      1.00      0.24       747\n",
      "\n",
      "    accuracy                           0.14      5572\n",
      "   macro avg       0.48      0.50      0.12      5572\n",
      "weighted avg       0.74      0.14      0.04      5572\n",
      "\n",
      "Name of Classifier: MultinomialNB\n",
      "Sklearn's score on testing data (SMS): 0.4016511127063891\n",
      "[[1710 3115]\n",
      " [ 219  528]]\n",
      "Classification report for testing data (SMS):\n",
      "              precision    recall  f1-score   support\n",
      "\n",
      "      normal       0.89      0.35      0.51      4825\n",
      "        spam       0.14      0.71      0.24       747\n",
      "\n",
      "    accuracy                           0.40      5572\n",
      "   macro avg       0.52      0.53      0.37      5572\n",
      "weighted avg       0.79      0.40      0.47      5572\n",
      "\n",
      "Name of Classifier: RandomForest\n",
      "Sklearn's score on testing data (SMS): 0.13801148600143576\n",
      "[[  29 4796]\n",
      " [   7  740]]\n",
      "Classification report for testing data (SMS):\n",
      "              precision    recall  f1-score   support\n",
      "\n",
      "      normal       0.81      0.01      0.01      4825\n",
      "        spam       0.13      0.99      0.24       747\n",
      "\n",
      "    accuracy                           0.14      5572\n",
      "   macro avg       0.47      0.50      0.12      5572\n",
      "weighted avg       0.72      0.14      0.04      5572\n",
      "\n",
      "Name of Classifier: KNeighbors\n",
      "Sklearn's score on testing data (SMS): 0.1342426417803302\n",
      "[[   1 4824]\n",
      " [   0  747]]\n",
      "Classification report for testing data (SMS):\n",
      "              precision    recall  f1-score   support\n",
      "\n",
      "      normal       1.00      0.00      0.00      4825\n",
      "        spam       0.13      1.00      0.24       747\n",
      "\n",
      "    accuracy                           0.13      5572\n",
      "   macro avg       0.57      0.50      0.12      5572\n",
      "weighted avg       0.88      0.13      0.03      5572\n",
      "\n",
      "Name of Classifier: DecisionTree\n",
      "Sklearn's score on testing data (SMS): 0.15990667623833452\n",
      "[[ 180 4645]\n",
      " [  36  711]]\n",
      "Classification report for testing data (SMS):\n",
      "              precision    recall  f1-score   support\n",
      "\n",
      "      normal       0.83      0.04      0.07      4825\n",
      "        spam       0.13      0.95      0.23       747\n",
      "\n",
      "    accuracy                           0.16      5572\n",
      "   macro avg       0.48      0.49      0.15      5572\n",
      "weighted avg       0.74      0.16      0.09      5572\n",
      "\n",
      "Name of Classifier: LogisticRegression\n",
      "Sklearn's score on testing data (SMS): 0.14877961234745155\n",
      "[[  99 4726]\n",
      " [  17  730]]\n",
      "Classification report for testing data (SMS):\n",
      "              precision    recall  f1-score   support\n",
      "\n",
      "      normal       0.85      0.02      0.04      4825\n",
      "        spam       0.13      0.98      0.24       747\n",
      "\n",
      "    accuracy                           0.15      5572\n",
      "   macro avg       0.49      0.50      0.14      5572\n",
      "weighted avg       0.76      0.15      0.07      5572\n",
      "\n"
     ]
    },
    {
     "data": {
      "text/plain": [
       "[('SVC',\n",
       "  'Score on training data (Email): 0.9946524064171123',\n",
       "  'Score on testing data (Email): 0.8095238095238095',\n",
       "  'Score on SMS data: 0.1354989231873654',\n",
       "  'Time: 0.7231568330025766'),\n",
       " ('MultinomialNB',\n",
       "  'Score on training data (Email): 1.0',\n",
       "  'Score on testing data (Email): 0.9047619047619048',\n",
       "  'Score on SMS data: 0.4016511127063891',\n",
       "  'Time: 0.005478292005136609'),\n",
       " ('RandomForest',\n",
       "  'Score on training data (Email): 1.0',\n",
       "  'Score on testing data (Email): 0.873015873015873',\n",
       "  'Score on SMS data: 0.13801148600143576',\n",
       "  'Time: 0.19890662500984035'),\n",
       " ('KNeighbors',\n",
       "  'Score on training data (Email): 0.7700534759358288',\n",
       "  'Score on testing data (Email): 0.6031746031746031',\n",
       "  'Score on SMS data: 0.1342426417803302',\n",
       "  'Time: 0.15696662501432002'),\n",
       " ('DecisionTree',\n",
       "  'Score on training data (Email): 1.0',\n",
       "  'Score on testing data (Email): 0.7142857142857143',\n",
       "  'Score on SMS data: 0.15990667623833452',\n",
       "  'Time: 0.01930233300663531'),\n",
       " ('LogisticRegression',\n",
       "  'Score on training data (Email): 1.0',\n",
       "  'Score on testing data (Email): 0.8888888888888888',\n",
       "  'Score on SMS data: 0.14877961234745155',\n",
       "  'Time: 0.016123416979098693')]"
      ]
     },
     "execution_count": 590,
     "metadata": {},
     "output_type": "execute_result"
    }
   ],
   "source": [
    "# Print result\n",
    "third_exp = train_different_models()\n",
    "third_exp"
   ]
  },
  {
   "cell_type": "code",
   "execution_count": 591,
   "id": "6aa4a11c",
   "metadata": {},
   "outputs": [
    {
     "name": "stdout",
     "output_type": "stream",
     "text": [
      "Name of Classifier: SVC\n",
      "Name of Classifier: MultinomialNB\n",
      "Name of Classifier: RandomForest\n",
      "Name of Classifier: KNeighbors\n",
      "Name of Classifier: DecisionTree\n",
      "Name of Classifier: LogisticRegression\n"
     ]
    },
    {
     "data": {
      "text/plain": [
       "[('SVC',\n",
       "  'Score on training data (Email): 0.9946524064171123',\n",
       "  'Score on testing data (Email): 0.8095238095238095',\n",
       "  'Score on SMS data: 0.1354989231873654',\n",
       "  'Time: 0.7408179589838255'),\n",
       " ('MultinomialNB',\n",
       "  'Score on training data (Email): 1.0',\n",
       "  'Score on testing data (Email): 0.9047619047619048',\n",
       "  'Score on SMS data: 0.4016511127063891',\n",
       "  'Time: 0.005927166988840327'),\n",
       " ('RandomForest',\n",
       "  'Score on training data (Email): 1.0',\n",
       "  'Score on testing data (Email): 0.8253968253968254',\n",
       "  'Score on SMS data: 0.13603732950466618',\n",
       "  'Time: 0.1908640000037849'),\n",
       " ('KNeighbors',\n",
       "  'Score on training data (Email): 0.7700534759358288',\n",
       "  'Score on testing data (Email): 0.6031746031746031',\n",
       "  'Score on SMS data: 0.1342426417803302',\n",
       "  'Time: 0.1482987079943996'),\n",
       " ('DecisionTree',\n",
       "  'Score on training data (Email): 1.0',\n",
       "  'Score on testing data (Email): 0.7936507936507936',\n",
       "  'Score on SMS data: 0.14913854989231873',\n",
       "  'Time: 0.01905120801529847'),\n",
       " ('LogisticRegression',\n",
       "  'Score on training data (Email): 1.0',\n",
       "  'Score on testing data (Email): 0.8888888888888888',\n",
       "  'Score on SMS data: 0.14877961234745155',\n",
       "  'Time: 0.014147999987471849')]"
      ]
     },
     "execution_count": 591,
     "metadata": {},
     "output_type": "execute_result"
    }
   ],
   "source": [
    "third_exp = train_different_models(report=False)\n",
    "third_exp"
   ]
  },
  {
   "cell_type": "markdown",
   "id": "4dcef398",
   "metadata": {},
   "source": [
    "### lowercase, stopwords, punctuations, word lemmatizer, and all features from training set"
   ]
  },
  {
   "cell_type": "code",
   "execution_count": 592,
   "id": "42527ea8",
   "metadata": {},
   "outputs": [
    {
     "name": "stdout",
     "output_type": "stream",
     "text": [
      "Number of features: 3620\n",
      "X_train - BEFORE doing preprocess: 23953\n",
      "X_test - BEFORE doing preprocess: 7212\n",
      "X_target - BEFORE doing preprocess: 86518\n"
     ]
    }
   ],
   "source": [
    "# Extract features\n",
    "V1 = createVocabulary(X_train_data,stopwords,0)\n",
    "features1 = list(V1.keys())\n",
    "\n",
    "# Count words\n",
    "print(f\"Number of features: {len(V1)}\")\n",
    "print(f\"X_train - BEFORE doing preprocess: {count_words(X_train)}\")\n",
    "print(f\"X_test - BEFORE doing preprocess: {count_words(X_test)}\")\n",
    "print(f\"X_target - BEFORE doing preprocess: {count_words_preprocessed(X_target)}\")\n",
    "\n",
    "# To represent test data as bag of word vector counts\n",
    "X_train_dataset = BoWInstances_sms(X_train_data,features1)\n",
    "X_test_dataset = BoWInstances_sms(X_test_data,features1)\n",
    "X_target_dataset = BoWInstances_sms(X_target_data,features1)"
   ]
  },
  {
   "cell_type": "code",
   "execution_count": 593,
   "id": "d57e6726",
   "metadata": {},
   "outputs": [
    {
     "name": "stdout",
     "output_type": "stream",
     "text": [
      "X_train - AFTER doing preprocess: 13469\n",
      "X_test - AFTER doing preprocess: 3954\n",
      "X_target - AFTER doing preprocess: 55200\n"
     ]
    }
   ],
   "source": [
    "# Count words after removing punctuations and stopwords lowercase\n",
    "print(f\"X_train - AFTER doing preprocess: {count_words_preprocessed(preprocess(X_train))}\")\n",
    "print(f\"X_test - AFTER doing preprocess: {count_words_preprocessed(preprocess(X_test))}\")\n",
    "print(f\"X_target - AFTER doing preprocess: {count_words_preprocessed(preprocess_sms(X_target))}\")"
   ]
  },
  {
   "cell_type": "code",
   "execution_count": 594,
   "id": "9d0b8b8c",
   "metadata": {},
   "outputs": [
    {
     "name": "stdout",
     "output_type": "stream",
     "text": [
      "Name of Classifier: SVC\n",
      "Sklearn's score on testing data (SMS): 0.1349605168700646\n",
      "[[   7 4818]\n",
      " [   2  745]]\n",
      "Classification report for testing data (SMS):\n",
      "              precision    recall  f1-score   support\n",
      "\n",
      "      normal       0.78      0.00      0.00      4825\n",
      "        spam       0.13      1.00      0.24       747\n",
      "\n",
      "    accuracy                           0.13      5572\n",
      "   macro avg       0.46      0.50      0.12      5572\n",
      "weighted avg       0.69      0.13      0.03      5572\n",
      "\n",
      "Name of Classifier: MultinomialNB\n",
      "Sklearn's score on testing data (SMS): 0.41511127063890885\n",
      "[[1773 3052]\n",
      " [ 207  540]]\n",
      "Classification report for testing data (SMS):\n",
      "              precision    recall  f1-score   support\n",
      "\n",
      "      normal       0.90      0.37      0.52      4825\n",
      "        spam       0.15      0.72      0.25       747\n",
      "\n",
      "    accuracy                           0.42      5572\n",
      "   macro avg       0.52      0.55      0.38      5572\n",
      "weighted avg       0.80      0.42      0.48      5572\n",
      "\n",
      "Name of Classifier: RandomForest\n",
      "Sklearn's score on testing data (SMS): 0.1351399856424982\n",
      "[[   6 4819]\n",
      " [   0  747]]\n",
      "Classification report for testing data (SMS):\n",
      "              precision    recall  f1-score   support\n",
      "\n",
      "      normal       1.00      0.00      0.00      4825\n",
      "        spam       0.13      1.00      0.24       747\n",
      "\n",
      "    accuracy                           0.14      5572\n",
      "   macro avg       0.57      0.50      0.12      5572\n",
      "weighted avg       0.88      0.14      0.03      5572\n",
      "\n",
      "Name of Classifier: KNeighbors\n",
      "Sklearn's score on testing data (SMS): 0.15254845656855706\n",
      "[[ 120 4705]\n",
      " [  17  730]]\n",
      "Classification report for testing data (SMS):\n",
      "              precision    recall  f1-score   support\n",
      "\n",
      "      normal       0.88      0.02      0.05      4825\n",
      "        spam       0.13      0.98      0.24       747\n",
      "\n",
      "    accuracy                           0.15      5572\n",
      "   macro avg       0.51      0.50      0.14      5572\n",
      "weighted avg       0.78      0.15      0.07      5572\n",
      "\n",
      "Name of Classifier: DecisionTree\n",
      "Sklearn's score on testing data (SMS): 0.14913854989231873\n",
      "[[ 109 4716]\n",
      " [  25  722]]\n",
      "Classification report for testing data (SMS):\n",
      "              precision    recall  f1-score   support\n",
      "\n",
      "      normal       0.81      0.02      0.04      4825\n",
      "        spam       0.13      0.97      0.23       747\n",
      "\n",
      "    accuracy                           0.15      5572\n",
      "   macro avg       0.47      0.49      0.14      5572\n",
      "weighted avg       0.72      0.15      0.07      5572\n",
      "\n",
      "Name of Classifier: LogisticRegression\n",
      "Sklearn's score on testing data (SMS): 0.14860014357501794\n",
      "[[  97 4728]\n",
      " [  16  731]]\n",
      "Classification report for testing data (SMS):\n",
      "              precision    recall  f1-score   support\n",
      "\n",
      "      normal       0.86      0.02      0.04      4825\n",
      "        spam       0.13      0.98      0.24       747\n",
      "\n",
      "    accuracy                           0.15      5572\n",
      "   macro avg       0.50      0.50      0.14      5572\n",
      "weighted avg       0.76      0.15      0.07      5572\n",
      "\n"
     ]
    },
    {
     "data": {
      "text/plain": [
       "[('SVC',\n",
       "  'Score on training data (Email): 0.9946524064171123',\n",
       "  'Score on testing data (Email): 0.8095238095238095',\n",
       "  'Score on SMS data: 0.1349605168700646',\n",
       "  'Time: 1.3346639999945182'),\n",
       " ('MultinomialNB',\n",
       "  'Score on training data (Email): 1.0',\n",
       "  'Score on testing data (Email): 0.9047619047619048',\n",
       "  'Score on SMS data: 0.41511127063890885',\n",
       "  'Time: 0.0087964580161497'),\n",
       " ('RandomForest',\n",
       "  'Score on training data (Email): 1.0',\n",
       "  'Score on testing data (Email): 0.8253968253968254',\n",
       "  'Score on SMS data: 0.1351399856424982',\n",
       "  'Time: 0.23678124998696148'),\n",
       " ('KNeighbors',\n",
       "  'Score on training data (Email): 0.9197860962566845',\n",
       "  'Score on testing data (Email): 0.6825396825396826',\n",
       "  'Score on SMS data: 0.15254845656855706',\n",
       "  'Time: 0.20279358301195316'),\n",
       " ('DecisionTree',\n",
       "  'Score on training data (Email): 1.0',\n",
       "  'Score on testing data (Email): 0.8095238095238095',\n",
       "  'Score on SMS data: 0.14913854989231873',\n",
       "  'Time: 0.031573915999615565'),\n",
       " ('LogisticRegression',\n",
       "  'Score on training data (Email): 1.0',\n",
       "  'Score on testing data (Email): 0.8888888888888888',\n",
       "  'Score on SMS data: 0.14860014357501794',\n",
       "  'Time: 0.022330875013722107')]"
      ]
     },
     "execution_count": 594,
     "metadata": {},
     "output_type": "execute_result"
    }
   ],
   "source": [
    "# Print result\n",
    "fourth_exp = train_different_models()\n",
    "fourth_exp"
   ]
  },
  {
   "cell_type": "code",
   "execution_count": 595,
   "id": "15dfcae1",
   "metadata": {},
   "outputs": [
    {
     "name": "stdout",
     "output_type": "stream",
     "text": [
      "Name of Classifier: SVC\n",
      "Name of Classifier: MultinomialNB\n",
      "Name of Classifier: RandomForest\n",
      "Name of Classifier: KNeighbors\n",
      "Name of Classifier: DecisionTree\n",
      "Name of Classifier: LogisticRegression\n"
     ]
    },
    {
     "data": {
      "text/plain": [
       "[('SVC',\n",
       "  'Score on training data (Email): 0.9946524064171123',\n",
       "  'Score on testing data (Email): 0.8095238095238095',\n",
       "  'Score on SMS data: 0.1349605168700646',\n",
       "  'Time: 1.2730588330014143'),\n",
       " ('MultinomialNB',\n",
       "  'Score on training data (Email): 1.0',\n",
       "  'Score on testing data (Email): 0.9047619047619048',\n",
       "  'Score on SMS data: 0.41511127063890885',\n",
       "  'Time: 0.009518999984720722'),\n",
       " ('RandomForest',\n",
       "  'Score on training data (Email): 1.0',\n",
       "  'Score on testing data (Email): 0.7777777777777778',\n",
       "  'Score on SMS data: 0.13442211055276382',\n",
       "  'Time: 0.2526372499996796'),\n",
       " ('KNeighbors',\n",
       "  'Score on training data (Email): 0.9197860962566845',\n",
       "  'Score on testing data (Email): 0.6825396825396826',\n",
       "  'Score on SMS data: 0.15254845656855706',\n",
       "  'Time: 0.23428912498638965'),\n",
       " ('DecisionTree',\n",
       "  'Score on training data (Email): 1.0',\n",
       "  'Score on testing data (Email): 0.7936507936507936',\n",
       "  'Score on SMS data: 0.14842067480258436',\n",
       "  'Time: 0.03135800000745803'),\n",
       " ('LogisticRegression',\n",
       "  'Score on training data (Email): 1.0',\n",
       "  'Score on testing data (Email): 0.8888888888888888',\n",
       "  'Score on SMS data: 0.14860014357501794',\n",
       "  'Time: 0.0262547500024084')]"
      ]
     },
     "execution_count": 595,
     "metadata": {},
     "output_type": "execute_result"
    }
   ],
   "source": [
    "fourth_exp = train_different_models(report=False)\n",
    "fourth_exp"
   ]
  },
  {
   "cell_type": "markdown",
   "id": "6b5c3357",
   "metadata": {},
   "source": [
    "### lowercase, stopwords, punctuations, word stemming, and 2000 features"
   ]
  },
  {
   "cell_type": "code",
   "execution_count": 596,
   "id": "f13e6f63",
   "metadata": {},
   "outputs": [],
   "source": [
    "from nltk.stem import PorterStemmer"
   ]
  },
  {
   "cell_type": "code",
   "execution_count": 597,
   "id": "cafef711",
   "metadata": {},
   "outputs": [],
   "source": [
    "def preprocess(dataset):\n",
    "    final = []\n",
    "    for i in range(len(dataset)):\n",
    "        final_words = []\n",
    "        # Lowercase\n",
    "        lower = dataset[i][1].lower()\n",
    "        # Tokenize word\n",
    "        tokenize = word_tokenize(lower)\n",
    "        # Initializing WordNetLemmatizer() \n",
    "        stemmer = PorterStemmer()\n",
    "        # pos_tag function below will provide the 'tag' i.e if the word is Noun(N) or Verb(V) or something else.\n",
    "        for word, tag in pos_tag(tokenize):\n",
    "            # Below condition is to check for Stop words and consider only alphabets\n",
    "            if word not in stopwords and word not in string.punctuation:\n",
    "                word_Final = stemmer.stem(word)\n",
    "                final_words.append(word_Final)\n",
    "        sent = ' '.join(final_words)\n",
    "        final.append(str(sent))\n",
    "    return final"
   ]
  },
  {
   "cell_type": "code",
   "execution_count": 598,
   "id": "47dfc9df",
   "metadata": {},
   "outputs": [],
   "source": [
    "def preprocess_sms(dataset):\n",
    "    final = []\n",
    "    for i in range(len(dataset)):\n",
    "        final_words = []\n",
    "        # Lowercase\n",
    "        lower = dataset[i].lower()\n",
    "        # Tokenize word\n",
    "        tokenize = word_tokenize(lower)\n",
    "        # Initializing WordNetLemmatizer() \n",
    "        stemmer = PorterStemmer()\n",
    "        # pos_tag function below will provide the 'tag' i.e if the word is Noun(N) or Verb(V) or something else.\n",
    "        for word, tag in pos_tag(tokenize):\n",
    "            # Below condition is to check for Stop words and consider only alphabets\n",
    "            if word not in stopwords and word not in string.punctuation:\n",
    "                word_Final = stemmer.stem(word)\n",
    "                final_words.append(word_Final)\n",
    "        sent = ' '.join(final_words)\n",
    "        final.append(str(sent))\n",
    "    return final"
   ]
  },
  {
   "cell_type": "code",
   "execution_count": 599,
   "id": "f92f966b",
   "metadata": {},
   "outputs": [],
   "source": [
    "# Preprocessing text dataset\n",
    "X_train_data = preprocess(X_train)\n",
    "X_test_data = preprocess(X_test)\n",
    "X_target_data = preprocess_sms(X_target)"
   ]
  },
  {
   "cell_type": "code",
   "execution_count": 600,
   "id": "f14a3ed9",
   "metadata": {},
   "outputs": [
    {
     "name": "stdout",
     "output_type": "stream",
     "text": [
      "Number of features: 2000\n",
      "X_train - BEFORE doing preprocess: 23953\n",
      "X_test - BEFORE doing preprocess: 7212\n",
      "X_target - BEFORE doing preprocess: 86518\n"
     ]
    }
   ],
   "source": [
    "# Extract features\n",
    "V = createVocabulary(X_train_data,stopwords,2000)\n",
    "features = list(V.keys())\n",
    "\n",
    "# Count words\n",
    "print(f\"Number of features: {len(V)}\")\n",
    "print(f\"X_train - BEFORE doing preprocess: {count_words(X_train)}\")\n",
    "print(f\"X_test - BEFORE doing preprocess: {count_words(X_test)}\")\n",
    "print(f\"X_target - BEFORE doing preprocess: {count_words_preprocessed(X_target)}\")\n",
    "\n",
    "# To represent test data as bag of word vector counts\n",
    "X_train_dataset = BoWInstances_sms(X_train_data,features)\n",
    "X_test_dataset = BoWInstances_sms(X_test_data,features)\n",
    "X_target_dataset = BoWInstances_sms(X_target_data,features)"
   ]
  },
  {
   "cell_type": "code",
   "execution_count": 601,
   "id": "d449ca86",
   "metadata": {},
   "outputs": [
    {
     "name": "stdout",
     "output_type": "stream",
     "text": [
      "X_train - AFTER doing preprocess: 13469\n",
      "X_test - AFTER doing preprocess: 3954\n",
      "X_target - AFTER doing preprocess: 55200\n"
     ]
    }
   ],
   "source": [
    "# Count words after removing punctuations and stopwords lowercase\n",
    "print(f\"X_train - AFTER doing preprocess: {count_words_preprocessed(preprocess(X_train))}\")\n",
    "print(f\"X_test - AFTER doing preprocess: {count_words_preprocessed(preprocess(X_test))}\")\n",
    "print(f\"X_target - AFTER doing preprocess: {count_words_preprocessed(preprocess_sms(X_target))}\")"
   ]
  },
  {
   "cell_type": "code",
   "execution_count": 602,
   "id": "d0a09394",
   "metadata": {},
   "outputs": [
    {
     "name": "stdout",
     "output_type": "stream",
     "text": [
      "Name of Classifier: SVC\n",
      "Sklearn's score on testing data (SMS): 0.135678391959799\n",
      "[[  10 4815]\n",
      " [   1  746]]\n",
      "Classification report for testing data (SMS):\n",
      "              precision    recall  f1-score   support\n",
      "\n",
      "      normal       0.91      0.00      0.00      4825\n",
      "        spam       0.13      1.00      0.24       747\n",
      "\n",
      "    accuracy                           0.14      5572\n",
      "   macro avg       0.52      0.50      0.12      5572\n",
      "weighted avg       0.81      0.14      0.04      5572\n",
      "\n",
      "Name of Classifier: MultinomialNB\n",
      "Sklearn's score on testing data (SMS): 0.3948312993539124\n",
      "[[1681 3144]\n",
      " [ 228  519]]\n",
      "Classification report for testing data (SMS):\n",
      "              precision    recall  f1-score   support\n",
      "\n",
      "      normal       0.88      0.35      0.50      4825\n",
      "        spam       0.14      0.69      0.24       747\n",
      "\n",
      "    accuracy                           0.39      5572\n",
      "   macro avg       0.51      0.52      0.37      5572\n",
      "weighted avg       0.78      0.39      0.46      5572\n",
      "\n",
      "Name of Classifier: RandomForest\n",
      "Sklearn's score on testing data (SMS): 0.13711414213926776\n",
      "[[  17 4808]\n",
      " [   0  747]]\n",
      "Classification report for testing data (SMS):\n",
      "              precision    recall  f1-score   support\n",
      "\n",
      "      normal       1.00      0.00      0.01      4825\n",
      "        spam       0.13      1.00      0.24       747\n",
      "\n",
      "    accuracy                           0.14      5572\n",
      "   macro avg       0.57      0.50      0.12      5572\n",
      "weighted avg       0.88      0.14      0.04      5572\n",
      "\n",
      "Name of Classifier: KNeighbors\n",
      "Sklearn's score on testing data (SMS): 0.1342426417803302\n",
      "[[   1 4824]\n",
      " [   0  747]]\n",
      "Classification report for testing data (SMS):\n",
      "              precision    recall  f1-score   support\n",
      "\n",
      "      normal       1.00      0.00      0.00      4825\n",
      "        spam       0.13      1.00      0.24       747\n",
      "\n",
      "    accuracy                           0.13      5572\n",
      "   macro avg       0.57      0.50      0.12      5572\n",
      "weighted avg       0.88      0.13      0.03      5572\n",
      "\n",
      "Name of Classifier: DecisionTree\n",
      "Sklearn's score on testing data (SMS): 0.15972720746590094\n",
      "[[ 180 4645]\n",
      " [  37  710]]\n",
      "Classification report for testing data (SMS):\n",
      "              precision    recall  f1-score   support\n",
      "\n",
      "      normal       0.83      0.04      0.07      4825\n",
      "        spam       0.13      0.95      0.23       747\n",
      "\n",
      "    accuracy                           0.16      5572\n",
      "   macro avg       0.48      0.49      0.15      5572\n",
      "weighted avg       0.74      0.16      0.09      5572\n",
      "\n",
      "Name of Classifier: LogisticRegression\n",
      "Sklearn's score on testing data (SMS): 0.14824120603015076\n",
      "[[  90 4735]\n",
      " [  11  736]]\n",
      "Classification report for testing data (SMS):\n",
      "              precision    recall  f1-score   support\n",
      "\n",
      "      normal       0.89      0.02      0.04      4825\n",
      "        spam       0.13      0.99      0.24       747\n",
      "\n",
      "    accuracy                           0.15      5572\n",
      "   macro avg       0.51      0.50      0.14      5572\n",
      "weighted avg       0.79      0.15      0.06      5572\n",
      "\n"
     ]
    },
    {
     "data": {
      "text/plain": [
       "[('SVC',\n",
       "  'Score on training data (Email): 0.9946524064171123',\n",
       "  'Score on testing data (Email): 0.8095238095238095',\n",
       "  'Score on SMS data: 0.135678391959799',\n",
       "  'Time: 0.7313118329911958'),\n",
       " ('MultinomialNB',\n",
       "  'Score on training data (Email): 0.9946524064171123',\n",
       "  'Score on testing data (Email): 0.8888888888888888',\n",
       "  'Score on SMS data: 0.3948312993539124',\n",
       "  'Time: 0.006185292004374787'),\n",
       " ('RandomForest',\n",
       "  'Score on training data (Email): 1.0',\n",
       "  'Score on testing data (Email): 0.8571428571428571',\n",
       "  'Score on SMS data: 0.13711414213926776',\n",
       "  'Time: 0.1972208750084974'),\n",
       " ('KNeighbors',\n",
       "  'Score on training data (Email): 0.7379679144385026',\n",
       "  'Score on testing data (Email): 0.6349206349206349',\n",
       "  'Score on SMS data: 0.1342426417803302',\n",
       "  'Time: 0.1554514589952305'),\n",
       " ('DecisionTree',\n",
       "  'Score on training data (Email): 1.0',\n",
       "  'Score on testing data (Email): 0.7619047619047619',\n",
       "  'Score on SMS data: 0.15972720746590094',\n",
       "  'Time: 0.018017916998360306'),\n",
       " ('LogisticRegression',\n",
       "  'Score on training data (Email): 1.0',\n",
       "  'Score on testing data (Email): 0.873015873015873',\n",
       "  'Score on SMS data: 0.14824120603015076',\n",
       "  'Time: 0.014920207991963252')]"
      ]
     },
     "execution_count": 602,
     "metadata": {},
     "output_type": "execute_result"
    }
   ],
   "source": [
    "fifth_exp = train_different_models()\n",
    "fifth_exp"
   ]
  },
  {
   "cell_type": "code",
   "execution_count": 603,
   "id": "12518783",
   "metadata": {},
   "outputs": [
    {
     "name": "stdout",
     "output_type": "stream",
     "text": [
      "Name of Classifier: SVC\n",
      "Name of Classifier: MultinomialNB\n",
      "Name of Classifier: RandomForest\n",
      "Name of Classifier: KNeighbors\n",
      "Name of Classifier: DecisionTree\n",
      "Name of Classifier: LogisticRegression\n"
     ]
    },
    {
     "data": {
      "text/plain": [
       "[('SVC',\n",
       "  'Score on training data (Email): 0.9946524064171123',\n",
       "  'Score on testing data (Email): 0.8095238095238095',\n",
       "  'Score on SMS data: 0.135678391959799',\n",
       "  'Time: 0.7322275420010556'),\n",
       " ('MultinomialNB',\n",
       "  'Score on training data (Email): 0.9946524064171123',\n",
       "  'Score on testing data (Email): 0.8888888888888888',\n",
       "  'Score on SMS data: 0.3948312993539124',\n",
       "  'Time: 0.005808124988107011'),\n",
       " ('RandomForest',\n",
       "  'Score on training data (Email): 1.0',\n",
       "  'Score on testing data (Email): 0.8412698412698413',\n",
       "  'Score on SMS data: 0.1362167982770998',\n",
       "  'Time: 0.19345179200172424'),\n",
       " ('KNeighbors',\n",
       "  'Score on training data (Email): 0.7379679144385026',\n",
       "  'Score on testing data (Email): 0.6349206349206349',\n",
       "  'Score on SMS data: 0.1342426417803302',\n",
       "  'Time: 0.1550177079916466'),\n",
       " ('DecisionTree',\n",
       "  'Score on training data (Email): 1.0',\n",
       "  'Score on testing data (Email): 0.7142857142857143',\n",
       "  'Score on SMS data: 0.15829145728643215',\n",
       "  'Time: 0.018267624982399866'),\n",
       " ('LogisticRegression',\n",
       "  'Score on training data (Email): 1.0',\n",
       "  'Score on testing data (Email): 0.873015873015873',\n",
       "  'Score on SMS data: 0.14824120603015076',\n",
       "  'Time: 0.016670167009579018')]"
      ]
     },
     "execution_count": 603,
     "metadata": {},
     "output_type": "execute_result"
    }
   ],
   "source": [
    "fifth_exp = train_different_models(report=False)\n",
    "fifth_exp"
   ]
  },
  {
   "cell_type": "markdown",
   "id": "1047b630",
   "metadata": {},
   "source": [
    "### lowercase, stopwords, punctuations, word stemming, and all features"
   ]
  },
  {
   "cell_type": "code",
   "execution_count": 604,
   "id": "60dcc863",
   "metadata": {},
   "outputs": [
    {
     "name": "stdout",
     "output_type": "stream",
     "text": [
      "Number of features: 3268\n",
      "X_train - BEFORE doing preprocess: 23953\n",
      "X_test - BEFORE doing preprocess: 7212\n",
      "X_target - BEFORE doing preprocess: 86518\n"
     ]
    }
   ],
   "source": [
    "# Extract features\n",
    "V2 = createVocabulary(X_train_data,stopwords,0)\n",
    "features2 = list(V2.keys())\n",
    "\n",
    "# Count words\n",
    "print(f\"Number of features: {len(V2)}\")\n",
    "print(f\"X_train - BEFORE doing preprocess: {count_words(X_train)}\")\n",
    "print(f\"X_test - BEFORE doing preprocess: {count_words(X_test)}\")\n",
    "print(f\"X_target - BEFORE doing preprocess: {count_words_preprocessed(X_target)}\")\n",
    "\n",
    "# To represent test data as bag of word vector counts\n",
    "X_train_dataset = BoWInstances_sms(X_train_data,features2)\n",
    "X_test_dataset = BoWInstances_sms(X_test_data,features2)\n",
    "X_target_dataset = BoWInstances_sms(X_target_data,features2)"
   ]
  },
  {
   "cell_type": "code",
   "execution_count": 605,
   "id": "248b7ed8",
   "metadata": {},
   "outputs": [
    {
     "name": "stdout",
     "output_type": "stream",
     "text": [
      "X_train - AFTER doing preprocess: 13469\n",
      "X_test - AFTER doing preprocess: 3954\n",
      "X_target - AFTER doing preprocess: 55200\n"
     ]
    }
   ],
   "source": [
    "# Count words after removing punctuations and stopwords lowercase\n",
    "print(f\"X_train - AFTER doing preprocess: {count_words_preprocessed(preprocess(X_train))}\")\n",
    "print(f\"X_test - AFTER doing preprocess: {count_words_preprocessed(preprocess(X_test))}\")\n",
    "print(f\"X_target - AFTER doing preprocess: {count_words_preprocessed(preprocess_sms(X_target))}\")"
   ]
  },
  {
   "cell_type": "code",
   "execution_count": 606,
   "id": "d25afa1a",
   "metadata": {},
   "outputs": [
    {
     "name": "stdout",
     "output_type": "stream",
     "text": [
      "Name of Classifier: SVC\n",
      "Sklearn's score on testing data (SMS): 0.1354989231873654\n",
      "[[   8 4817]\n",
      " [   0  747]]\n",
      "Classification report for testing data (SMS):\n",
      "              precision    recall  f1-score   support\n",
      "\n",
      "      normal       1.00      0.00      0.00      4825\n",
      "        spam       0.13      1.00      0.24       747\n",
      "\n",
      "    accuracy                           0.14      5572\n",
      "   macro avg       0.57      0.50      0.12      5572\n",
      "weighted avg       0.88      0.14      0.03      5572\n",
      "\n",
      "Name of Classifier: MultinomialNB\n",
      "Sklearn's score on testing data (SMS): 0.4066762383345298\n",
      "[[1757 3068]\n",
      " [ 238  509]]\n",
      "Classification report for testing data (SMS):\n",
      "              precision    recall  f1-score   support\n",
      "\n",
      "      normal       0.88      0.36      0.52      4825\n",
      "        spam       0.14      0.68      0.24       747\n",
      "\n",
      "    accuracy                           0.41      5572\n",
      "   macro avg       0.51      0.52      0.38      5572\n",
      "weighted avg       0.78      0.41      0.48      5572\n",
      "\n",
      "Name of Classifier: RandomForest\n",
      "Sklearn's score on testing data (SMS): 0.135678391959799\n",
      "[[  10 4815]\n",
      " [   1  746]]\n",
      "Classification report for testing data (SMS):\n",
      "              precision    recall  f1-score   support\n",
      "\n",
      "      normal       0.91      0.00      0.00      4825\n",
      "        spam       0.13      1.00      0.24       747\n",
      "\n",
      "    accuracy                           0.14      5572\n",
      "   macro avg       0.52      0.50      0.12      5572\n",
      "weighted avg       0.81      0.14      0.04      5572\n",
      "\n",
      "Name of Classifier: KNeighbors\n",
      "Sklearn's score on testing data (SMS): 0.15272792534099067\n",
      "[[ 119 4706]\n",
      " [  15  732]]\n",
      "Classification report for testing data (SMS):\n",
      "              precision    recall  f1-score   support\n",
      "\n",
      "      normal       0.89      0.02      0.05      4825\n",
      "        spam       0.13      0.98      0.24       747\n",
      "\n",
      "    accuracy                           0.15      5572\n",
      "   macro avg       0.51      0.50      0.14      5572\n",
      "weighted avg       0.79      0.15      0.07      5572\n",
      "\n",
      "Name of Classifier: DecisionTree\n",
      "Sklearn's score on testing data (SMS): 0.15003589375448673\n",
      "[[ 129 4696]\n",
      " [  40  707]]\n",
      "Classification report for testing data (SMS):\n",
      "              precision    recall  f1-score   support\n",
      "\n",
      "      normal       0.76      0.03      0.05      4825\n",
      "        spam       0.13      0.95      0.23       747\n",
      "\n",
      "    accuracy                           0.15      5572\n",
      "   macro avg       0.45      0.49      0.14      5572\n",
      "weighted avg       0.68      0.15      0.08      5572\n",
      "\n",
      "Name of Classifier: LogisticRegression\n",
      "Sklearn's score on testing data (SMS): 0.14824120603015076\n",
      "[[  92 4733]\n",
      " [  13  734]]\n",
      "Classification report for testing data (SMS):\n",
      "              precision    recall  f1-score   support\n",
      "\n",
      "      normal       0.88      0.02      0.04      4825\n",
      "        spam       0.13      0.98      0.24       747\n",
      "\n",
      "    accuracy                           0.15      5572\n",
      "   macro avg       0.51      0.50      0.14      5572\n",
      "weighted avg       0.78      0.15      0.06      5572\n",
      "\n"
     ]
    },
    {
     "data": {
      "text/plain": [
       "[('SVC',\n",
       "  'Score on training data (Email): 0.9893048128342246',\n",
       "  'Score on testing data (Email): 0.8095238095238095',\n",
       "  'Score on SMS data: 0.1354989231873654',\n",
       "  'Time: 1.2701868749863934'),\n",
       " ('MultinomialNB',\n",
       "  'Score on training data (Email): 1.0',\n",
       "  'Score on testing data (Email): 0.8888888888888888',\n",
       "  'Score on SMS data: 0.4066762383345298',\n",
       "  'Time: 0.013724166987231001'),\n",
       " ('RandomForest',\n",
       "  'Score on training data (Email): 1.0',\n",
       "  'Score on testing data (Email): 0.8253968253968254',\n",
       "  'Score on SMS data: 0.135678391959799',\n",
       "  'Time: 0.22192912502214313'),\n",
       " ('KNeighbors',\n",
       "  'Score on training data (Email): 0.9090909090909091',\n",
       "  'Score on testing data (Email): 0.6507936507936508',\n",
       "  'Score on SMS data: 0.15272792534099067',\n",
       "  'Time: 0.20698412499041297'),\n",
       " ('DecisionTree',\n",
       "  'Score on training data (Email): 1.0',\n",
       "  'Score on testing data (Email): 0.6825396825396826',\n",
       "  'Score on SMS data: 0.15003589375448673',\n",
       "  'Time: 0.02807895900332369'),\n",
       " ('LogisticRegression',\n",
       "  'Score on training data (Email): 1.0',\n",
       "  'Score on testing data (Email): 0.8888888888888888',\n",
       "  'Score on SMS data: 0.14824120603015076',\n",
       "  'Time: 0.02346966601908207')]"
      ]
     },
     "execution_count": 606,
     "metadata": {},
     "output_type": "execute_result"
    }
   ],
   "source": [
    "sixth_exp = train_different_models()\n",
    "sixth_exp"
   ]
  },
  {
   "cell_type": "code",
   "execution_count": 607,
   "id": "271002ec",
   "metadata": {},
   "outputs": [
    {
     "name": "stdout",
     "output_type": "stream",
     "text": [
      "Name of Classifier: SVC\n",
      "Name of Classifier: MultinomialNB\n",
      "Name of Classifier: RandomForest\n",
      "Name of Classifier: KNeighbors\n",
      "Name of Classifier: DecisionTree\n",
      "Name of Classifier: LogisticRegression\n"
     ]
    },
    {
     "data": {
      "text/plain": [
       "[('SVC',\n",
       "  'Score on training data (Email): 0.9893048128342246',\n",
       "  'Score on testing data (Email): 0.8095238095238095',\n",
       "  'Score on SMS data: 0.1354989231873654',\n",
       "  'Time: 1.1494879160018172'),\n",
       " ('MultinomialNB',\n",
       "  'Score on training data (Email): 1.0',\n",
       "  'Score on testing data (Email): 0.8888888888888888',\n",
       "  'Score on SMS data: 0.4066762383345298',\n",
       "  'Time: 0.010158832999877632'),\n",
       " ('RandomForest',\n",
       "  'Score on training data (Email): 1.0',\n",
       "  'Score on testing data (Email): 0.8571428571428571',\n",
       "  'Score on SMS data: 0.1354989231873654',\n",
       "  'Time: 0.2697465829842258'),\n",
       " ('KNeighbors',\n",
       "  'Score on training data (Email): 0.9090909090909091',\n",
       "  'Score on testing data (Email): 0.6507936507936508',\n",
       "  'Score on SMS data: 0.15272792534099067',\n",
       "  'Time: 0.18636254098964855'),\n",
       " ('DecisionTree',\n",
       "  'Score on training data (Email): 1.0',\n",
       "  'Score on testing data (Email): 0.7777777777777778',\n",
       "  'Score on SMS data: 0.15882986360373294',\n",
       "  'Time: 0.028821334009990096'),\n",
       " ('LogisticRegression',\n",
       "  'Score on training data (Email): 1.0',\n",
       "  'Score on testing data (Email): 0.8888888888888888',\n",
       "  'Score on SMS data: 0.14824120603015076',\n",
       "  'Time: 0.03387162499711849')]"
      ]
     },
     "execution_count": 607,
     "metadata": {},
     "output_type": "execute_result"
    }
   ],
   "source": [
    "sixth_exp = train_different_models(report=False)\n",
    "sixth_exp"
   ]
  },
  {
   "cell_type": "code",
   "execution_count": 608,
   "id": "aafc3ea0",
   "metadata": {},
   "outputs": [
    {
     "data": {
      "image/png": "[encoded data removed]",
      "text/plain": [
       "<Figure size 432x288 with 1 Axes>"
      ]
     },
     "metadata": {
      "needs_background": "light"
     },
     "output_type": "display_data"
    }
   ],
   "source": [
    "from matplotlib import pyplot\n",
    "#values = [i for i in range(1,5)]\n",
    "abc = [\"a\",\"b\",\"c\",\"d\"]\n",
    "values = [i for i in abc]\n",
    "NB_train_scores = [0.98930,0.98930,0.99465,0.99465]\n",
    "NB_test_scores = [0.96825,0.96825,0.98413,0.98413]\n",
    "NB_target_scores = [0.86594,0.86594,0.86594,0.86594]\n",
    "pyplot.plot(values, NB_train_scores, '-o', label='NB_Train')\n",
    "pyplot.plot(values, NB_test_scores, '-o', label='NB_Test_Email')\n",
    "pyplot.plot(values, NB_target_scores, '-o', label='NB_Target_SMS')\n",
    "\n",
    "pyplot.legend()\n",
    "pyplot.show()"
   ]
  },
  {
   "cell_type": "code",
   "execution_count": 609,
   "id": "2bf48b56",
   "metadata": {},
   "outputs": [
    {
     "name": "stdout",
     "output_type": "stream",
     "text": [
      "[[4825    0]\n",
      " [ 747    0]]\n"
     ]
    }
   ],
   "source": [
    "conf_mat = confusion_matrix(Y_target, Y_test_pred)\n",
    "print(conf_mat)"
   ]
  },
  {
   "cell_type": "code",
   "execution_count": null,
   "id": "2a8ef102",
   "metadata": {},
   "outputs": [],
   "source": []
  }
 ],
 "metadata": {
  "kernelspec": {
   "display_name": "Python 3",
   "language": "python",
   "name": "python3"
  },
  "language_info": {
   "codemirror_mode": {
    "name": "ipython",
    "version": 3
   },
   "file_extension": ".py",
   "mimetype": "text/x-python",
   "name": "python",
   "nbconvert_exporter": "python",
   "pygments_lexer": "ipython3",
   "version": "3.8.8"
  }
 },
 "nbformat": 4,
 "nbformat_minor": 5
}
